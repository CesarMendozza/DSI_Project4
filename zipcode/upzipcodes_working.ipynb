{
 "cells": [
  {
   "cell_type": "code",
   "execution_count": 36,
   "metadata": {},
   "outputs": [],
   "source": [
    "from uszipcode import SearchEngine\n",
    "import pandas as pd"
   ]
  },
  {
   "cell_type": "code",
   "execution_count": 10,
   "metadata": {
    "collapsed": true
   },
   "outputs": [
    {
     "name": "stdout",
     "output_type": "stream",
     "text": [
      "Start downloading data for rich info zipcode database, total size 450+MB ...\n",
      "  10 MB finished ...\n",
      "  20 MB finished ...\n",
      "  30 MB finished ...\n",
      "  40 MB finished ...\n",
      "  50 MB finished ...\n",
      "  60 MB finished ...\n",
      "  70 MB finished ...\n",
      "  80 MB finished ...\n",
      "  90 MB finished ...\n",
      "  100 MB finished ...\n",
      "  110 MB finished ...\n",
      "  120 MB finished ...\n",
      "  130 MB finished ...\n",
      "  140 MB finished ...\n",
      "  150 MB finished ...\n",
      "  160 MB finished ...\n",
      "  170 MB finished ...\n",
      "  180 MB finished ...\n",
      "  190 MB finished ...\n",
      "  200 MB finished ...\n",
      "  210 MB finished ...\n",
      "  220 MB finished ...\n",
      "  230 MB finished ...\n",
      "  240 MB finished ...\n",
      "  250 MB finished ...\n",
      "  260 MB finished ...\n",
      "  270 MB finished ...\n",
      "  280 MB finished ...\n",
      "  290 MB finished ...\n",
      "  300 MB finished ...\n",
      "  310 MB finished ...\n",
      "  320 MB finished ...\n",
      "  330 MB finished ...\n",
      "  340 MB finished ...\n",
      "  350 MB finished ...\n",
      "  360 MB finished ...\n",
      "  370 MB finished ...\n",
      "  380 MB finished ...\n",
      "  390 MB finished ...\n",
      "  400 MB finished ...\n",
      "  410 MB finished ...\n",
      "  420 MB finished ...\n",
      "  430 MB finished ...\n",
      "  440 MB finished ...\n",
      "  Complete!\n"
     ]
    }
   ],
   "source": [
    "search = SearchEngine(simple_zipcode=False)\n",
    "zipcode = search.by_zipcode('30024')"
   ]
  },
  {
   "cell_type": "markdown",
   "metadata": {},
   "source": [
    "### testing zipcode stuff\n",
    "\n",
    "zipcode\n",
    "\n",
    "zipcode.values()\n",
    "\n",
    "zipcode.to_dict()"
   ]
  },
  {
   "cell_type": "code",
   "execution_count": 20,
   "metadata": {},
   "outputs": [],
   "source": [
    "zips = zipcode.to_dict()"
   ]
  },
  {
   "cell_type": "code",
   "execution_count": 33,
   "metadata": {
    "collapsed": true
   },
   "outputs": [
    {
     "data": {
      "text/plain": [
       "dict_keys(['zipcode_type', 'major_city', 'post_office_city', 'common_city_list', 'county', 'state', 'lat', 'lng', 'timezone', 'radius_in_miles', 'area_code_list', 'population', 'population_density', 'land_area_in_sqmi', 'water_area_in_sqmi', 'housing_units', 'occupied_housing_units', 'median_home_value', 'median_household_income', 'bounds_west', 'bounds_east', 'bounds_north', 'bounds_south', 'zipcode', 'polygon', 'population_by_year', 'population_by_age', 'population_by_gender', 'population_by_race', 'head_of_household_by_age', 'families_vs_singles', 'households_with_kids', 'children_by_age', 'housing_type', 'year_housing_was_built', 'housing_occupancy', 'vancancy_reason', 'owner_occupied_home_values', 'rental_properties_by_number_of_rooms', 'monthly_rent_including_utilities_studio_apt', 'monthly_rent_including_utilities_1_b', 'monthly_rent_including_utilities_2_b', 'monthly_rent_including_utilities_3plus_b', 'employment_status', 'average_household_income_over_time', 'household_income', 'annual_individual_earnings', 'sources_of_household_income____percent_of_households_receiving_income', 'sources_of_household_income____average_income_per_household_by_income_source', 'household_investment_income____percent_of_households_receiving_investment_income', 'household_investment_income____average_income_per_household_by_income_source', 'household_retirement_income____percent_of_households_receiving_retirement_incom', 'household_retirement_income____average_income_per_household_by_income_source', 'source_of_earnings', 'means_of_transportation_to_work_for_workers_16_and_over', 'travel_time_to_work_in_minutes', 'educational_attainment_for_population_25_and_over', 'school_enrollment_age_3_to_17'])"
      ]
     },
     "execution_count": 33,
     "metadata": {},
     "output_type": "execute_result"
    }
   ],
   "source": [
    "zipcode.to_dict().keys()"
   ]
  },
  {
   "cell_type": "code",
   "execution_count": 35,
   "metadata": {},
   "outputs": [
    {
     "name": "stdout",
     "output_type": "stream",
     "text": [
      "34.07 -84.1 64614 21682 20715 272400 30024 99931 64614\n"
     ]
    }
   ],
   "source": [
    "print(  zips['lat'], \n",
    "        zips['lng'], \n",
    "        zips['population'], \n",
    "        zips['housing_units'],\n",
    "        zips['occupied_housing_units'], \n",
    "        zips['median_home_value'], \n",
    "        zips['zipcode'], \n",
    "        zips['median_household_income'], \n",
    "        zips['population']\n",
    "     )"
   ]
  },
  {
   "cell_type": "code",
   "execution_count": 31,
   "metadata": {},
   "outputs": [],
   "source": [
    "katy = '30024'\n",
    "mason = '30009'\n",
    "joey = '30114'\n",
    "cesar = '30310'\n",
    "zip_list = [katy,mason,joey,cesar]"
   ]
  },
  {
   "cell_type": "code",
   "execution_count": null,
   "metadata": {},
   "outputs": [],
   "source": [
    "metrics = []\n",
    "for i in zip_list:\n",
    "    row = {}\n",
    "    zipcode = search.by_zipcode(i)\n",
    "    zip = zipcode.to_dict()\n",
    "    row['lat'] = zip['lat']\n",
    "    row['lng'] = zip['lng']\n",
    "    row['population'] = zip['population']\n",
    "    row['occupied_housing_units'] = zip['occupied_housing_units']\n",
    "    row['median_home_value'] = zip['median_home_value']\n",
    "    row['zipcode'] = zip['zipcode']\n",
    "    row['median_household_income'] = zip['median_household_income']\n",
    "    row['population'] = zip['population']\n",
    "    metrics.append(row)\n",
    "    "
   ]
  },
  {
   "cell_type": "code",
   "execution_count": 38,
   "metadata": {},
   "outputs": [],
   "source": [
    "metrics_df = pd.DataFrame(metrics)"
   ]
  },
  {
   "cell_type": "code",
   "execution_count": 39,
   "metadata": {},
   "outputs": [],
   "source": [
    "metrics_df.to_csv('test_ds_for_mason.csv',index=False)"
   ]
  },
  {
   "cell_type": "code",
   "execution_count": null,
   "metadata": {},
   "outputs": [],
   "source": []
  }
 ],
 "metadata": {
  "kernelspec": {
   "display_name": "Python 3",
   "language": "python",
   "name": "python3"
  },
  "language_info": {
   "codemirror_mode": {
    "name": "ipython",
    "version": 3
   },
   "file_extension": ".py",
   "mimetype": "text/x-python",
   "name": "python",
   "nbconvert_exporter": "python",
   "pygments_lexer": "ipython3",
   "version": "3.6.4"
  }
 },
 "nbformat": 4,
 "nbformat_minor": 2
}
