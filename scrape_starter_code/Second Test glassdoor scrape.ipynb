{
 "cells": [
  {
   "cell_type": "code",
   "execution_count": 5,
   "metadata": {},
   "outputs": [
    {
     "name": "stdout",
     "output_type": "stream",
     "text": [
      "Collecting selenium\n",
      "\u001b[?25l  Downloading https://files.pythonhosted.org/packages/80/d6/4294f0b4bce4de0abf13e17190289f9d0613b0a44e5dd6a7f5ca98459853/selenium-3.141.0-py2.py3-none-any.whl (904kB)\n",
      "\u001b[K    100% |████████████████████████████████| 911kB 6.9MB/s ta 0:00:011\n",
      "\u001b[?25hRequirement already satisfied: urllib3 in /anaconda3/lib/python3.6/site-packages (from selenium) (1.22)\n",
      "Installing collected packages: selenium\n",
      "Successfully installed selenium-3.141.0\n"
     ]
    }
   ],
   "source": [
    "! pip install selenium"
   ]
  },
  {
   "cell_type": "code",
   "execution_count": 8,
   "metadata": {},
   "outputs": [
    {
     "name": "stdout",
     "output_type": "stream",
     "text": [
      "Collecting helperP3\n",
      "\u001b[31m  Could not find a version that satisfies the requirement helperP3 (from versions: )\u001b[0m\n",
      "\u001b[31mNo matching distribution found for helperP3\u001b[0m\n"
     ]
    }
   ],
   "source": [
    "! pip install helperP3"
   ]
  },
  {
   "cell_type": "code",
   "execution_count": 6,
   "metadata": {},
   "outputs": [],
   "source": [
    "def glassdoorScrape(get_short = False):\n",
    "    \n",
    "    \"\"\"\n",
    "    Created on Tue Aug 16 22:41:30 2016\n",
    "    Scrape Glassdoor website using SELENIUM\n",
    "    @author: Diego De Lazzari\n",
    "    \"\"\"\n",
    "\n",
    "    from selenium import webdriver\n",
    "    #from bs4 import BeautifulSoup # For HTML parsing\n",
    "    from time import sleep # To prevent overwhelming the server between connections\n",
    "    from collections import Counter # Keep track of our term counts\n",
    "    from nltk.corpus import stopwords # Filter out stopwords, such as 'the', 'or', 'and'\n",
    "    import pandas as pd # For converting results to a dataframe and bar chart plots\n",
    "    from selenium.webdriver.common import action_chains, keys\n",
    "    from selenium.common.exceptions import NoSuchElementException\n",
    "    import numpy as np\n",
    "    import sys\n",
    "\n",
    "\n",
    "    # call the helper\n",
    "    \n",
    "    from helperP3 import load_obj, save_obj, init_glassdoor, searchJobs, text_cleaner, get_pause\n",
    "    \n",
    "        # 1- Load existing dictionary. Check for initial dictionary. \n",
    "        # If empty initialize\n",
    "            \n",
    "    try:               \n",
    "        jobDict = load_obj('glassDoorDict')\n",
    "        link =    load_obj('glassDoorlink')\n",
    "    except:\n",
    "        save_obj([], 'glassDoorlink')\n",
    "        save_obj({}, 'glassDoorDict')\n",
    "        \n",
    "        jobDict = load_obj('glassDoorDict')\n",
    "        link =    load_obj('glassDoorlink')    \n",
    "    \n",
    "    # 2- Choose what you want to do: \n",
    "#        get_shot => Scraping for links, \n",
    "#        get_long => Scraping for data,\n",
    "\n",
    "\n",
    "    get_long = (not get_short)\n",
    "    \n",
    "    if get_short or get_long:\n",
    "        \n",
    "    # 3- initialize website, cities and jobs\n",
    "        \n",
    "        website = \"https://www.glassdoor.com/index.htm\"\n",
    "        \n",
    "        jobName_lst = [' ']#'Data Scientist', 'Data Analyst'\n",
    "        jobName = np.random.choice(jobName_lst)\n",
    "    \n",
    "        city_lst = ['Panama City','Panama City Beach',' '] \n",
    "        city = np.random.choice(city_lst)        \n",
    "        \n",
    "        # Initialize the webdriver\n",
    "        \n",
    "        browser = init_glassdoor()  \n",
    "    \n",
    "    # 4- Scrape the short list or the links (when you ae done, both are false)\n",
    "    \n",
    "    \n",
    "    if get_short:\n",
    "    \n",
    "        browser.get(website)\n",
    "            \n",
    "        # search for jobs (short description) \n",
    "        try:    \n",
    "                    update_jobDict, update_link = searchJobs(jobName, city, jobDict, link)\n",
    "#                    sleep(get_pause())\n",
    "        except:\n",
    "            sys.exit(\"Error message\")\n",
    "            \n",
    "        # save dictionary and link     \n",
    "    \n",
    "        save_obj(update_jobDict, 'glassDoorDict')\n",
    "        save_obj(update_link, 'glassDoorlink')\n",
    "        \n",
    "     # 5- Scrape the job description, for every link\n",
    "                    \n",
    "    if get_long:        \n",
    "        \n",
    "        while len(link) > 0:\n",
    "            \n",
    "             \n",
    "            try:\n",
    "                rnd_job = np.random.choice(range(len(link)))\n",
    "                \n",
    "                ids = link[rnd_job][0]\n",
    "                page = link[rnd_job][1]\n",
    "                \n",
    "                browser.get(page)                 \n",
    "                sleep(3)\n",
    "                \n",
    "                # Extract text   //*[@id=\"JobDescContainer\"]/div[1]\n",
    "                desc_list = browser.find_element_by_xpath('//*[@id=\"JobDescContainer\"]/div[1]').text\n",
    "                description = text_cleaner(desc_list)\n",
    "                \n",
    "                # Update dictionary and remove succe\n",
    "                jobDict[ids].append(description)               \n",
    "                dummy=link.pop(rnd_job)\n",
    "                               \n",
    "                # if everything is fine, save\n",
    "                save_obj(jobDict, 'glassDoorDict')\n",
    "                save_obj(link, 'glassDoorlink')\n",
    "                                                \n",
    "                print ('Scraped successfully ' + ids)\n",
    "                \n",
    "                sleep(get_pause())\n",
    "            except:   \n",
    "                print (ids + ' is not working! Sleep for 10 seconds and retry')\n",
    "                print ('Still missing ' + str(len(link)) + ' links' )\n",
    "                sleep(8)\n",
    "                \n",
    "        browser.close()\n",
    "        \n",
    "    return"
   ]
  },
  {
   "cell_type": "code",
   "execution_count": 9,
   "metadata": {},
   "outputs": [
    {
     "ename": "SyntaxError",
     "evalue": "invalid syntax (helperP3.py, line 77)",
     "output_type": "error",
     "traceback": [
      "Traceback \u001b[0;36m(most recent call last)\u001b[0m:\n",
      "  File \u001b[1;32m\"/anaconda3/lib/python3.6/site-packages/IPython/core/interactiveshell.py\"\u001b[0m, line \u001b[1;32m2910\u001b[0m, in \u001b[1;35mrun_code\u001b[0m\n    exec(code_obj, self.user_global_ns, self.user_ns)\n",
      "  File \u001b[1;32m\"<ipython-input-9-9149e5a227ff>\"\u001b[0m, line \u001b[1;32m1\u001b[0m, in \u001b[1;35m<module>\u001b[0m\n    glassdoorScrape(get_short = True)\n",
      "\u001b[0;36m  File \u001b[0;32m\"<ipython-input-6-cd2ff8dd9f4e>\"\u001b[0;36m, line \u001b[0;32m23\u001b[0;36m, in \u001b[0;35mglassdoorScrape\u001b[0;36m\u001b[0m\n\u001b[0;31m    from helperP3 import load_obj, save_obj, init_glassdoor, searchJobs, text_cleaner, get_pause\u001b[0m\n",
      "\u001b[0;36m  File \u001b[0;32m\"/Users/katychow/DSI/DSI_Project4/helperP3.py\"\u001b[0;36m, line \u001b[0;32m77\u001b[0m\n\u001b[0;31m    jobData =  map(lambda (a,b): (a,b.text.encode(\"utf8\").split('\\n')[0:4]),newPost)\u001b[0m\n\u001b[0m                          ^\u001b[0m\n\u001b[0;31mSyntaxError\u001b[0m\u001b[0;31m:\u001b[0m invalid syntax\n"
     ]
    }
   ],
   "source": [
    "glassdoorScrape(get_short = True)"
   ]
  },
  {
   "cell_type": "code",
   "execution_count": null,
   "metadata": {},
   "outputs": [],
   "source": []
  }
 ],
 "metadata": {
  "kernelspec": {
   "display_name": "Python 3",
   "language": "python",
   "name": "python3"
  },
  "language_info": {
   "codemirror_mode": {
    "name": "ipython",
    "version": 3
   },
   "file_extension": ".py",
   "mimetype": "text/x-python",
   "name": "python",
   "nbconvert_exporter": "python",
   "pygments_lexer": "ipython3",
   "version": "3.6.4"
  }
 },
 "nbformat": 4,
 "nbformat_minor": 2
}
