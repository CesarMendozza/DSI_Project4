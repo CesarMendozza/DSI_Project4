{
 "cells": [
  {
   "cell_type": "code",
   "execution_count": 1,
   "metadata": {},
   "outputs": [],
   "source": [
    "import pandas as pd\n",
    "import requests\n",
    "from bs4 import BeautifulSoup"
   ]
  },
  {
   "cell_type": "code",
   "execution_count": 2,
   "metadata": {},
   "outputs": [],
   "source": [
    "url = 'https://www.thebalance.com/hurricane-damage-economic-costs-4150369'"
   ]
  },
  {
   "cell_type": "code",
   "execution_count": 3,
   "metadata": {},
   "outputs": [],
   "source": [
    "res = requests.get(url)"
   ]
  },
  {
   "cell_type": "code",
   "execution_count": 5,
   "metadata": {},
   "outputs": [],
   "source": [
    "res.status_code\n",
    "soup = BeautifulSoup(res.content, 'lxml') "
   ]
  },
  {
   "cell_type": "code",
   "execution_count": 20,
   "metadata": {},
   "outputs": [
    {
     "name": "stdout",
     "output_type": "stream",
     "text": [
      "<table align=\"center\" border=\"1\" cellpadding=\"1\" cellspacing=\"1\"><thead><tr><th><p>Category</p></th><th><p>Wind Speed</p></th><th><p>Surge in Feet</p></th><th><p>Damage</p></th><th><p>Home Damage</p></th><th><p>Tree Damage</p></th><th><p>Power Outages</p></th></tr></thead><tbody><tr><th><p>1</p></th><td><p>74-95 mph</p></td><td><p>4-5</p></td><td><p>Some</p></td><td><p>Some</p></td><td><p>Branches</p></td><td><p>Days</p></td></tr><tr><th><p>2</p></th><td><p>96-110 mph</p></td><td><p>6-8</p></td><td><p>Extensive</p></td><td><p>Major</p></td><td><p>Snapped</p></td><td><p>Weeks</p></td></tr><tr><th><p>3</p></th><td><p>111-129 mph</p></td><td><p>9-12</p></td><td><p>Devastating</p></td><td><p>Major</p></td><td><p>Snapped</p></td><td><p>Weeks</p></td></tr><tr><th><p>4</p></th><td><p>130-156 mph</p></td><td><p>13-18</p></td><td><p>Catastrophic</p></td><td><p>Severe</p></td><td><p>Toppled</p></td><td><p>Months</p></td></tr><tr><th><p>5</p></th><td><p>157+ mph</p></td><td><p>19+</p></td><td><p>Catastrophic</p></td><td><p>Destroyed</p></td><td><p>Toppled</p></td><td><p>Months</p></td></tr></tbody></table>\n",
      "\n",
      "<table align=\"center\" border=\"1\" cellpadding=\"1\" cellspacing=\"1\"><thead><tr><th><p>Rank</p></th><th><p>Name</p></th><th><p>States</p></th><th><p>Year </p></th><th><p>Category</p></th><th colspan=\"2\" rowspan=\"1\"><p>Damage in Billions</p></th></tr><tr><th><p> </p></th><th><p> </p></th><th><p> </p></th><th><p> </p></th><th><p> </p></th><th><p>Not Adjusted</p></th><th><p>Adj. for Inflation</p></th></tr></thead><tbody><tr><th><p>1</p></th><th><p>Katrina</p></th><td><p>FL, LA, MS</p></td><td><p>2005</p></td><td><p>   3</p></td><td><p>$125.0</p></td><td><p>   $160.0</p></td></tr><tr><th><p>2</p></th><th><p>Harvey</p></th><td><p>TX,LA</p></td><td><p>2017</p></td><td><p>   4</p></td><td><p>$125.0</p></td><td><p>   $125.0</p></td></tr><tr><th><p>3</p></th><th><p>Maria</p></th><td><p>PR</p></td><td><p>2017</p></td><td><p>   5</p></td><td><p>  $90.0</p></td><td><p>     $90.0</p></td></tr><tr><th><p>4</p></th><th><p>Sandy</p></th><td><p>NY, NJ, MA </p></td><td><p>2012</p></td><td><p> TS</p></td><td><p>  $65.0</p></td><td><p>     $70.2</p></td></tr><tr><th><p>5</p></th><th><p>Irma</p></th><td><p>FL</p></td><td><p>2017</p></td><td><p>   5</p></td><td><p>  $50.0</p></td><td><p>     $50.0</p></td></tr><tr><th><p>6</p></th><th><p>Ike</p></th><td><p>TX, LA</p></td><td><p>2008</p></td><td><p>   2</p></td><td><p>  $30.0</p></td><td><p>     $34.8</p></td></tr><tr><th><p>7</p></th><th><p>Andrew</p></th><td><p>FL, LA</p></td><td><p>1992</p></td><td><p>   5</p></td><td><p>  $27.0</p></td><td><p>     $47.8</p></td></tr><tr><th><p>8</p></th><th><p>Ivan</p></th><td><p>AL,FL</p></td><td><p>2004</p></td><td><p>   3</p></td><td><p>  $20.5</p></td><td><p>     $27.1</p></td></tr><tr><th><p>9</p></th><th><p>Wilma</p></th><td><p>FL</p></td><td><p>2005</p></td><td><p>   3   </p></td><td><p>  $19.0</p></td><td><p>     $24.3</p></td></tr><tr><th><p>10</p></th><th><p>Rita</p></th><td><p>LA,TX</p></td><td><p>2005</p></td><td><p>   3 </p></td><td><p>  $18.5</p></td><td><p>     $23.7</p></td></tr><tr><th><p> *</p></th><th><p>Florence</p></th><td><p>NC</p></td><td><p>2018</p></td><td><p>   1</p></td><td><p> $17-$22</p></td><td><p> $17-$22</p></td></tr><tr><th><p>11</p></th><th><p>Charley</p></th><td><p>FL</p></td><td><p>2004</p></td><td><p>   4</p></td><td><p>  $16.0</p></td><td><p>     $21.1</p></td></tr><tr><th><p>12</p></th><th><p>Irene</p></th><td><p>NC</p></td><td><p>2011</p></td><td><p>   1 </p></td><td><p>  $13.5</p></td><td><p>     $14.9</p></td></tr><tr><th><p>13</p></th><th><p>Matthew</p></th><td><p>SE US</p></td><td><p>2016</p></td><td><p>   1</p></td><td><p>  $10.0</p></td><td><p>     $10.3</p></td></tr><tr><th><p>14</p></th><th><p>Frances</p></th><td><p>FL</p></td><td><p>2004</p></td><td><p>   2</p></td><td><p>    $9.8</p></td><td><p>     $12.9</p></td></tr><tr><th><p>15</p></th><th><p>Allison</p></th><td><p>TX</p></td><td><p>2001</p></td><td><p> TS</p></td><td><p>    $8.5</p></td><td><p>     $11.8</p></td></tr><tr><th><p>16</p></th><th><p>Jeanne</p></th><td><p>FL</p></td><td><p>2004</p></td><td><p>   3 </p></td><td><p>    $7.5</p></td><td><p>       $9.9</p></td></tr><tr><th><p>17</p></th><th><p>Hugo</p></th><td><p>SC</p></td><td><p>1989</p></td><td><p>   4</p></td><td><p>    $7.0</p></td><td><p>     $14.1</p></td></tr><tr><th><p>18</p></th><th><p>Floyd</p></th><td><p>NY, MA</p></td><td><p>1999</p></td><td><p>   2</p></td><td><p>    $6.5</p></td><td><p>       $9.6</p></td></tr><tr><th><p>19</p></th><th><p>Gustav</p></th><td><p>LA</p></td><td><p>2008</p></td><td><p>   2</p></td><td><p>    $6.0</p></td><td><p>       $6.9</p></td></tr><tr><th><p>20</p></th><th><p>Isabel</p></th><td><p>NY, MA</p></td><td><p>2003</p></td><td><p>   2</p></td><td><p>    $5.5</p></td><td><p>       $7.4</p></td></tr></tbody></table>\n",
      "\n"
     ]
    }
   ],
   "source": [
    "for i in soup.find_all('table'):\n",
    "    print(i)\n",
    "    print('')"
   ]
  },
  {
   "cell_type": "code",
   "execution_count": 55,
   "metadata": {},
   "outputs": [],
   "source": [
    "table = []\n",
    "for i in soup.find_all('table')[0].find_all('tr'):\n",
    "    row = {}\n",
    "    row['name'] = i.text\n",
    "    table.append(row)"
   ]
  },
  {
   "cell_type": "code",
   "execution_count": 56,
   "metadata": {},
   "outputs": [
    {
     "data": {
      "text/plain": [
       "[{'name': 'CategoryWind SpeedSurge in FeetDamageHome DamageTree DamagePower Outages'},\n",
       " {'name': '174-95 mph4-5SomeSomeBranchesDays'},\n",
       " {'name': '296-110 mph6-8ExtensiveMajorSnappedWeeks'},\n",
       " {'name': '3111-129 mph9-12DevastatingMajorSnappedWeeks'},\n",
       " {'name': '4130-156 mph13-18CatastrophicSevereToppledMonths'},\n",
       " {'name': '5157+ mph19+CatastrophicDestroyedToppledMonths'}]"
      ]
     },
     "execution_count": 56,
     "metadata": {},
     "output_type": "execute_result"
    }
   ],
   "source": [
    "table"
   ]
  },
  {
   "cell_type": "code",
   "execution_count": 57,
   "metadata": {},
   "outputs": [],
   "source": [
    "table2 = []\n",
    "for i in soup.find_all('table')[1].find_all('tr'):\n",
    "    row = {}\n",
    "    row['name'] = i.text\n",
    "    table2.append(row)"
   ]
  },
  {
   "cell_type": "code",
   "execution_count": 59,
   "metadata": {
    "scrolled": true
   },
   "outputs": [
    {
     "data": {
      "text/html": [
       "<div>\n",
       "<style scoped>\n",
       "    .dataframe tbody tr th:only-of-type {\n",
       "        vertical-align: middle;\n",
       "    }\n",
       "\n",
       "    .dataframe tbody tr th {\n",
       "        vertical-align: top;\n",
       "    }\n",
       "\n",
       "    .dataframe thead th {\n",
       "        text-align: right;\n",
       "    }\n",
       "</style>\n",
       "<table border=\"1\" class=\"dataframe\">\n",
       "  <thead>\n",
       "    <tr style=\"text-align: right;\">\n",
       "      <th></th>\n",
       "      <th>name</th>\n",
       "    </tr>\n",
       "  </thead>\n",
       "  <tbody>\n",
       "    <tr>\n",
       "      <th>0</th>\n",
       "      <td>RankNameStatesYear CategoryDamage in Billions</td>\n",
       "    </tr>\n",
       "    <tr>\n",
       "      <th>1</th>\n",
       "      <td>Not AdjustedAdj. for Inflation</td>\n",
       "    </tr>\n",
       "    <tr>\n",
       "      <th>2</th>\n",
       "      <td>1KatrinaFL, LA, MS2005   3$125.0   $160.0</td>\n",
       "    </tr>\n",
       "    <tr>\n",
       "      <th>3</th>\n",
       "      <td>2HarveyTX,LA2017   4$125.0   $125.0</td>\n",
       "    </tr>\n",
       "    <tr>\n",
       "      <th>4</th>\n",
       "      <td>3MariaPR2017   5  $90.0     $90.0</td>\n",
       "    </tr>\n",
       "    <tr>\n",
       "      <th>5</th>\n",
       "      <td>4SandyNY, NJ, MA 2012 TS  $65.0     $70.2</td>\n",
       "    </tr>\n",
       "    <tr>\n",
       "      <th>6</th>\n",
       "      <td>5IrmaFL2017   5  $50.0     $50.0</td>\n",
       "    </tr>\n",
       "    <tr>\n",
       "      <th>7</th>\n",
       "      <td>6IkeTX, LA2008   2  $30.0     $34.8</td>\n",
       "    </tr>\n",
       "    <tr>\n",
       "      <th>8</th>\n",
       "      <td>7AndrewFL, LA1992   5  $27.0     $47.8</td>\n",
       "    </tr>\n",
       "    <tr>\n",
       "      <th>9</th>\n",
       "      <td>8IvanAL,FL2004   3  $20.5     $27.1</td>\n",
       "    </tr>\n",
       "    <tr>\n",
       "      <th>10</th>\n",
       "      <td>9WilmaFL2005   3     $19.0     $24.3</td>\n",
       "    </tr>\n",
       "    <tr>\n",
       "      <th>11</th>\n",
       "      <td>10RitaLA,TX2005   3   $18.5     $23.7</td>\n",
       "    </tr>\n",
       "    <tr>\n",
       "      <th>12</th>\n",
       "      <td>*FlorenceNC2018   1 $17-$22 $17-$22</td>\n",
       "    </tr>\n",
       "    <tr>\n",
       "      <th>13</th>\n",
       "      <td>11CharleyFL2004   4  $16.0     $21.1</td>\n",
       "    </tr>\n",
       "    <tr>\n",
       "      <th>14</th>\n",
       "      <td>12IreneNC2011   1   $13.5     $14.9</td>\n",
       "    </tr>\n",
       "    <tr>\n",
       "      <th>15</th>\n",
       "      <td>13MatthewSE US2016   1  $10.0     $10.3</td>\n",
       "    </tr>\n",
       "    <tr>\n",
       "      <th>16</th>\n",
       "      <td>14FrancesFL2004   2    $9.8     $12.9</td>\n",
       "    </tr>\n",
       "    <tr>\n",
       "      <th>17</th>\n",
       "      <td>15AllisonTX2001 TS    $8.5     $11.8</td>\n",
       "    </tr>\n",
       "    <tr>\n",
       "      <th>18</th>\n",
       "      <td>16JeanneFL2004   3     $7.5       $9.9</td>\n",
       "    </tr>\n",
       "    <tr>\n",
       "      <th>19</th>\n",
       "      <td>17HugoSC1989   4    $7.0     $14.1</td>\n",
       "    </tr>\n",
       "    <tr>\n",
       "      <th>20</th>\n",
       "      <td>18FloydNY, MA1999   2    $6.5       $9.6</td>\n",
       "    </tr>\n",
       "    <tr>\n",
       "      <th>21</th>\n",
       "      <td>19GustavLA2008   2    $6.0       $6.9</td>\n",
       "    </tr>\n",
       "    <tr>\n",
       "      <th>22</th>\n",
       "      <td>20IsabelNY, MA2003   2    $5.5       $7.4</td>\n",
       "    </tr>\n",
       "  </tbody>\n",
       "</table>\n",
       "</div>"
      ],
      "text/plain": [
       "                                             name\n",
       "0   RankNameStatesYear CategoryDamage in Billions\n",
       "1                  Not AdjustedAdj. for Inflation\n",
       "2       1KatrinaFL, LA, MS2005   3$125.0   $160.0\n",
       "3             2HarveyTX,LA2017   4$125.0   $125.0\n",
       "4               3MariaPR2017   5  $90.0     $90.0\n",
       "5       4SandyNY, NJ, MA 2012 TS  $65.0     $70.2\n",
       "6                5IrmaFL2017   5  $50.0     $50.0\n",
       "7             6IkeTX, LA2008   2  $30.0     $34.8\n",
       "8          7AndrewFL, LA1992   5  $27.0     $47.8\n",
       "9             8IvanAL,FL2004   3  $20.5     $27.1\n",
       "10           9WilmaFL2005   3     $19.0     $24.3\n",
       "11          10RitaLA,TX2005   3   $18.5     $23.7\n",
       "12            *FlorenceNC2018   1 $17-$22 $17-$22\n",
       "13           11CharleyFL2004   4  $16.0     $21.1\n",
       "14            12IreneNC2011   1   $13.5     $14.9\n",
       "15        13MatthewSE US2016   1  $10.0     $10.3\n",
       "16          14FrancesFL2004   2    $9.8     $12.9\n",
       "17           15AllisonTX2001 TS    $8.5     $11.8\n",
       "18         16JeanneFL2004   3     $7.5       $9.9\n",
       "19             17HugoSC1989   4    $7.0     $14.1\n",
       "20       18FloydNY, MA1999   2    $6.5       $9.6\n",
       "21          19GustavLA2008   2    $6.0       $6.9\n",
       "22      20IsabelNY, MA2003   2    $5.5       $7.4"
      ]
     },
     "execution_count": 59,
     "metadata": {},
     "output_type": "execute_result"
    }
   ],
   "source": [
    "pd.DataFrame(table2)"
   ]
  },
  {
   "cell_type": "code",
   "execution_count": null,
   "metadata": {},
   "outputs": [],
   "source": []
  }
 ],
 "metadata": {
  "kernelspec": {
   "display_name": "Python 3",
   "language": "python",
   "name": "python3"
  },
  "language_info": {
   "codemirror_mode": {
    "name": "ipython",
    "version": 3
   },
   "file_extension": ".py",
   "mimetype": "text/x-python",
   "name": "python",
   "nbconvert_exporter": "python",
   "pygments_lexer": "ipython3",
   "version": "3.6.4"
  }
 },
 "nbformat": 4,
 "nbformat_minor": 2
}
